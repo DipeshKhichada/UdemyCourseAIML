{
 "cells": [
  {
   "cell_type": "markdown",
   "source": [
    "## Intro to Numpy"
   ],
   "metadata": {
    "collapsed": false
   },
   "id": "c8b175764e5d30d8"
  },
  {
   "cell_type": "code",
   "execution_count": 1,
   "outputs": [],
   "source": [
    "import numpy as np"
   ],
   "metadata": {
    "collapsed": false,
    "ExecuteTime": {
     "end_time": "2023-08-12T07:51:06.550016Z",
     "start_time": "2023-08-12T07:51:05.951220Z"
    }
   },
   "id": "b0985e508c8b5e1c"
  },
  {
   "cell_type": "markdown",
   "source": [
    "## Numpy Data Types and Attributes"
   ],
   "metadata": {
    "collapsed": false
   },
   "id": "243c0b41c3e3e30a"
  },
  {
   "cell_type": "code",
   "execution_count": 2,
   "outputs": [
    {
     "data": {
      "text/plain": "array([1, 2, 3])"
     },
     "execution_count": 2,
     "metadata": {},
     "output_type": "execute_result"
    }
   ],
   "source": [
    "# Numpy's main datatype is ndarray\n",
    "a1 = np.array([1, 2, 3])\n",
    "a1"
   ],
   "metadata": {
    "collapsed": false,
    "ExecuteTime": {
     "end_time": "2023-08-12T07:52:34.962871Z",
     "start_time": "2023-08-12T07:52:34.907848Z"
    }
   },
   "id": "58c867822e4206db"
  },
  {
   "cell_type": "code",
   "execution_count": 3,
   "outputs": [
    {
     "data": {
      "text/plain": "numpy.ndarray"
     },
     "execution_count": 3,
     "metadata": {},
     "output_type": "execute_result"
    }
   ],
   "source": [
    "type(a1)"
   ],
   "metadata": {
    "collapsed": false,
    "ExecuteTime": {
     "end_time": "2023-08-12T07:52:48.484933Z",
     "start_time": "2023-08-12T07:52:48.433279Z"
    }
   },
   "id": "b2757e24417dd1c7"
  },
  {
   "cell_type": "code",
   "execution_count": 4,
   "outputs": [
    {
     "data": {
      "text/plain": "array([[1. , 2. , 3.3],\n       [4. , 5. , 6.5]])"
     },
     "execution_count": 4,
     "metadata": {},
     "output_type": "execute_result"
    }
   ],
   "source": [
    "a2 = np.array([[1, 2.0, 3.3],\n",
    "               [4, 5, 6.5]])\n",
    "a2"
   ],
   "metadata": {
    "collapsed": false,
    "ExecuteTime": {
     "end_time": "2023-08-12T07:52:57.909292Z",
     "start_time": "2023-08-12T07:52:57.876748Z"
    }
   },
   "id": "7c02936612f935c4"
  },
  {
   "cell_type": "code",
   "execution_count": 5,
   "outputs": [],
   "source": [
    "a3 = np.array([[[1, 2, 3],\n",
    "                [4, 5, 6],\n",
    "                [7, 8, 9]],\n",
    "               [[10, 11, 12],\n",
    "                [13, 14, 15],\n",
    "                [16, 17, 18]]])"
   ],
   "metadata": {
    "collapsed": false,
    "ExecuteTime": {
     "end_time": "2023-08-12T07:53:09.293472Z",
     "start_time": "2023-08-12T07:53:09.254501Z"
    }
   },
   "id": "e2a407042cabc770"
  },
  {
   "cell_type": "code",
   "execution_count": 6,
   "outputs": [
    {
     "data": {
      "text/plain": "array([[[ 1,  2,  3],\n        [ 4,  5,  6],\n        [ 7,  8,  9]],\n\n       [[10, 11, 12],\n        [13, 14, 15],\n        [16, 17, 18]]])"
     },
     "execution_count": 6,
     "metadata": {},
     "output_type": "execute_result"
    }
   ],
   "source": [
    "a2\n",
    "a3"
   ],
   "metadata": {
    "collapsed": false,
    "ExecuteTime": {
     "end_time": "2023-08-12T07:53:13.231217Z",
     "start_time": "2023-08-12T07:53:13.189232Z"
    }
   },
   "id": "eb843e603eb60d84"
  },
  {
   "cell_type": "code",
   "execution_count": 7,
   "outputs": [
    {
     "data": {
      "text/plain": "array([[[ 1,  2,  3],\n        [ 4,  5,  6],\n        [ 7,  8,  9]],\n\n       [[10, 11, 12],\n        [13, 14, 15],\n        [16, 17, 18]]])"
     },
     "execution_count": 7,
     "metadata": {},
     "output_type": "execute_result"
    }
   ],
   "source": [
    "a3"
   ],
   "metadata": {
    "collapsed": false,
    "ExecuteTime": {
     "end_time": "2023-08-12T07:53:36.768702Z",
     "start_time": "2023-08-12T07:53:36.745476Z"
    }
   },
   "id": "cf6e3dc86e18d92d"
  },
  {
   "cell_type": "code",
   "execution_count": 8,
   "outputs": [
    {
     "data": {
      "text/plain": "array([[1. , 2. , 3.3],\n       [4. , 5. , 6.5]])"
     },
     "execution_count": 8,
     "metadata": {},
     "output_type": "execute_result"
    }
   ],
   "source": [
    "a2"
   ],
   "metadata": {
    "collapsed": false,
    "ExecuteTime": {
     "end_time": "2023-08-12T07:53:41.839123Z",
     "start_time": "2023-08-12T07:53:41.798204Z"
    }
   },
   "id": "c82fb22de3ddeb6"
  },
  {
   "cell_type": "code",
   "execution_count": 9,
   "outputs": [
    {
     "data": {
      "text/plain": "array([[[ 1,  2,  3],\n        [ 4,  5,  6],\n        [ 7,  8,  9]],\n\n       [[10, 11, 12],\n        [13, 14, 15],\n        [16, 17, 18]]])"
     },
     "execution_count": 9,
     "metadata": {},
     "output_type": "execute_result"
    }
   ],
   "source": [
    "a3"
   ],
   "metadata": {
    "collapsed": false,
    "ExecuteTime": {
     "end_time": "2023-08-12T07:53:43.927394Z",
     "start_time": "2023-08-12T07:53:43.866508Z"
    }
   },
   "id": "66e5dbd46cf340ee"
  },
  {
   "cell_type": "code",
   "execution_count": 10,
   "outputs": [
    {
     "data": {
      "text/plain": "(3,)"
     },
     "execution_count": 10,
     "metadata": {},
     "output_type": "execute_result"
    }
   ],
   "source": [
    "a1.shape"
   ],
   "metadata": {
    "collapsed": false,
    "ExecuteTime": {
     "end_time": "2023-08-12T07:57:47.449476Z",
     "start_time": "2023-08-12T07:57:47.421884Z"
    }
   },
   "id": "7810054f5ab645c"
  },
  {
   "cell_type": "code",
   "execution_count": 11,
   "outputs": [
    {
     "data": {
      "text/plain": "(2, 3)"
     },
     "execution_count": 11,
     "metadata": {},
     "output_type": "execute_result"
    }
   ],
   "source": [
    "a2.shape"
   ],
   "metadata": {
    "collapsed": false,
    "ExecuteTime": {
     "end_time": "2023-08-12T07:57:49.857281Z",
     "start_time": "2023-08-12T07:57:49.803565Z"
    }
   },
   "id": "be0ac4053a617c5"
  },
  {
   "cell_type": "code",
   "execution_count": 12,
   "outputs": [
    {
     "data": {
      "text/plain": "(2, 3, 3)"
     },
     "execution_count": 12,
     "metadata": {},
     "output_type": "execute_result"
    }
   ],
   "source": [
    "a3.shape"
   ],
   "metadata": {
    "collapsed": false,
    "ExecuteTime": {
     "end_time": "2023-08-12T07:57:53.524236Z",
     "start_time": "2023-08-12T07:57:53.462162Z"
    }
   },
   "id": "f717f71ffbb46c8e"
  },
  {
   "cell_type": "code",
   "execution_count": 13,
   "outputs": [
    {
     "data": {
      "text/plain": "array([[1. , 2. , 3.3],\n       [4. , 5. , 6.5]])"
     },
     "execution_count": 13,
     "metadata": {},
     "output_type": "execute_result"
    }
   ],
   "source": [
    "a2"
   ],
   "metadata": {
    "collapsed": false,
    "ExecuteTime": {
     "end_time": "2023-08-12T07:58:39.861329Z",
     "start_time": "2023-08-12T07:58:39.816734Z"
    }
   },
   "id": "35305c91b6c0d12c"
  },
  {
   "cell_type": "code",
   "execution_count": 14,
   "outputs": [
    {
     "data": {
      "text/plain": "2"
     },
     "execution_count": 14,
     "metadata": {},
     "output_type": "execute_result"
    }
   ],
   "source": [
    "a2.ndim"
   ],
   "metadata": {
    "collapsed": false,
    "ExecuteTime": {
     "end_time": "2023-08-12T07:59:05.690462Z",
     "start_time": "2023-08-12T07:59:05.610829Z"
    }
   },
   "id": "ce71e39779a000a3"
  },
  {
   "cell_type": "code",
   "execution_count": 15,
   "outputs": [
    {
     "data": {
      "text/plain": "3"
     },
     "execution_count": 15,
     "metadata": {},
     "output_type": "execute_result"
    }
   ],
   "source": [
    "a3.ndim"
   ],
   "metadata": {
    "collapsed": false,
    "ExecuteTime": {
     "end_time": "2023-08-12T07:59:11.226849Z",
     "start_time": "2023-08-12T07:59:11.177835Z"
    }
   },
   "id": "57b90fb1217770b2"
  },
  {
   "cell_type": "code",
   "execution_count": 16,
   "outputs": [
    {
     "data": {
      "text/plain": "1"
     },
     "execution_count": 16,
     "metadata": {},
     "output_type": "execute_result"
    }
   ],
   "source": [
    "a1.ndim"
   ],
   "metadata": {
    "collapsed": false,
    "ExecuteTime": {
     "end_time": "2023-08-12T07:59:14.180209Z",
     "start_time": "2023-08-12T07:59:14.130794Z"
    }
   },
   "id": "53238e24d6d766d3"
  },
  {
   "cell_type": "code",
   "execution_count": 17,
   "outputs": [
    {
     "data": {
      "text/plain": "(dtype('int64'), dtype('float64'), dtype('int64'))"
     },
     "execution_count": 17,
     "metadata": {},
     "output_type": "execute_result"
    }
   ],
   "source": [
    "a1.dtype, a2.dtype, a3.dtype"
   ],
   "metadata": {
    "collapsed": false,
    "ExecuteTime": {
     "end_time": "2023-08-12T07:59:23.276297Z",
     "start_time": "2023-08-12T07:59:23.242182Z"
    }
   },
   "id": "d424c742807daa4"
  },
  {
   "cell_type": "code",
   "execution_count": 18,
   "outputs": [
    {
     "data": {
      "text/plain": "(3, 6, 18)"
     },
     "execution_count": 18,
     "metadata": {},
     "output_type": "execute_result"
    }
   ],
   "source": [
    "a1.size, a2.size, a3.size"
   ],
   "metadata": {
    "collapsed": false,
    "ExecuteTime": {
     "end_time": "2023-08-12T07:59:28.030415Z",
     "start_time": "2023-08-12T07:59:27.984365Z"
    }
   },
   "id": "3dd2eaf3c7b2b9bb"
  },
  {
   "cell_type": "code",
   "execution_count": 19,
   "outputs": [
    {
     "data": {
      "text/plain": "(numpy.ndarray, numpy.ndarray, numpy.ndarray)"
     },
     "execution_count": 19,
     "metadata": {},
     "output_type": "execute_result"
    }
   ],
   "source": [
    "type(a1), type(a2), type(a3)"
   ],
   "metadata": {
    "collapsed": false,
    "ExecuteTime": {
     "end_time": "2023-08-12T08:00:11.790451Z",
     "start_time": "2023-08-12T08:00:11.749747Z"
    }
   },
   "id": "df92894e741a8c7"
  },
  {
   "cell_type": "code",
   "execution_count": 20,
   "outputs": [],
   "source": [
    "# Create a DataFrame from a Numpy array\n",
    "import pandas as pd"
   ],
   "metadata": {
    "collapsed": false,
    "ExecuteTime": {
     "end_time": "2023-08-12T08:00:22.583304Z",
     "start_time": "2023-08-12T08:00:22.517961Z"
    }
   },
   "id": "23d65158e1898da1"
  },
  {
   "cell_type": "code",
   "execution_count": 21,
   "outputs": [
    {
     "data": {
      "text/plain": "     0    1    2\n0  1.0  2.0  3.3\n1  4.0  5.0  6.5",
      "text/html": "<div>\n<style scoped>\n    .dataframe tbody tr th:only-of-type {\n        vertical-align: middle;\n    }\n\n    .dataframe tbody tr th {\n        vertical-align: top;\n    }\n\n    .dataframe thead th {\n        text-align: right;\n    }\n</style>\n<table border=\"1\" class=\"dataframe\">\n  <thead>\n    <tr style=\"text-align: right;\">\n      <th></th>\n      <th>0</th>\n      <th>1</th>\n      <th>2</th>\n    </tr>\n  </thead>\n  <tbody>\n    <tr>\n      <th>0</th>\n      <td>1.0</td>\n      <td>2.0</td>\n      <td>3.3</td>\n    </tr>\n    <tr>\n      <th>1</th>\n      <td>4.0</td>\n      <td>5.0</td>\n      <td>6.5</td>\n    </tr>\n  </tbody>\n</table>\n</div>"
     },
     "execution_count": 21,
     "metadata": {},
     "output_type": "execute_result"
    }
   ],
   "source": [
    "df = pd.DataFrame(a2)\n",
    "df"
   ],
   "metadata": {
    "collapsed": false,
    "ExecuteTime": {
     "end_time": "2023-08-12T08:02:06.261753Z",
     "start_time": "2023-08-12T08:02:06.212871Z"
    }
   },
   "id": "2974f0287dab8a9b"
  },
  {
   "cell_type": "code",
   "execution_count": 22,
   "outputs": [
    {
     "data": {
      "text/plain": "array([[1. , 2. , 3.3],\n       [4. , 5. , 6.5]])"
     },
     "execution_count": 22,
     "metadata": {},
     "output_type": "execute_result"
    }
   ],
   "source": [
    "a2"
   ],
   "metadata": {
    "collapsed": false,
    "ExecuteTime": {
     "end_time": "2023-08-12T08:02:30.363069Z",
     "start_time": "2023-08-12T08:02:30.302198Z"
    }
   },
   "id": "2a99445c2e9ae202"
  },
  {
   "cell_type": "code",
   "execution_count": 23,
   "outputs": [
    {
     "data": {
      "text/plain": "     0    1    2\n0  1.0  2.0  3.3\n1  4.0  5.0  6.5",
      "text/html": "<div>\n<style scoped>\n    .dataframe tbody tr th:only-of-type {\n        vertical-align: middle;\n    }\n\n    .dataframe tbody tr th {\n        vertical-align: top;\n    }\n\n    .dataframe thead th {\n        text-align: right;\n    }\n</style>\n<table border=\"1\" class=\"dataframe\">\n  <thead>\n    <tr style=\"text-align: right;\">\n      <th></th>\n      <th>0</th>\n      <th>1</th>\n      <th>2</th>\n    </tr>\n  </thead>\n  <tbody>\n    <tr>\n      <th>0</th>\n      <td>1.0</td>\n      <td>2.0</td>\n      <td>3.3</td>\n    </tr>\n    <tr>\n      <th>1</th>\n      <td>4.0</td>\n      <td>5.0</td>\n      <td>6.5</td>\n    </tr>\n  </tbody>\n</table>\n</div>"
     },
     "execution_count": 23,
     "metadata": {},
     "output_type": "execute_result"
    }
   ],
   "source": [
    "df"
   ],
   "metadata": {
    "collapsed": false,
    "ExecuteTime": {
     "end_time": "2023-08-12T08:02:36.610967Z",
     "start_time": "2023-08-12T08:02:36.554979Z"
    }
   },
   "id": "d079fa4cac5abf7a"
  },
  {
   "cell_type": "code",
   "execution_count": 24,
   "outputs": [
    {
     "data": {
      "text/plain": "   0\n0  1\n1  2\n2  3",
      "text/html": "<div>\n<style scoped>\n    .dataframe tbody tr th:only-of-type {\n        vertical-align: middle;\n    }\n\n    .dataframe tbody tr th {\n        vertical-align: top;\n    }\n\n    .dataframe thead th {\n        text-align: right;\n    }\n</style>\n<table border=\"1\" class=\"dataframe\">\n  <thead>\n    <tr style=\"text-align: right;\">\n      <th></th>\n      <th>0</th>\n    </tr>\n  </thead>\n  <tbody>\n    <tr>\n      <th>0</th>\n      <td>1</td>\n    </tr>\n    <tr>\n      <th>1</th>\n      <td>2</td>\n    </tr>\n    <tr>\n      <th>2</th>\n      <td>3</td>\n    </tr>\n  </tbody>\n</table>\n</div>"
     },
     "execution_count": 24,
     "metadata": {},
     "output_type": "execute_result"
    }
   ],
   "source": [
    "a1_df = pd.DataFrame(a1)\n",
    "a1_df"
   ],
   "metadata": {
    "collapsed": false,
    "ExecuteTime": {
     "end_time": "2023-08-12T08:03:08.804929Z",
     "start_time": "2023-08-12T08:03:08.767675Z"
    }
   },
   "id": "bb4efb6cddfe5687"
  },
  {
   "cell_type": "markdown",
   "source": [
    "## So machine learning finding different patterns in Numpy Array"
   ],
   "metadata": {
    "collapsed": false
   },
   "id": "a93a781c70fb8e5b"
  },
  {
   "cell_type": "code",
   "execution_count": 25,
   "outputs": [
    {
     "data": {
      "text/plain": "array([1, 2, 3])"
     },
     "execution_count": 25,
     "metadata": {},
     "output_type": "execute_result"
    }
   ],
   "source": [
    "# Create a Numpy array\n",
    "sample_array = np.array([1, 2, 3])\n",
    "sample_array"
   ],
   "metadata": {
    "collapsed": false,
    "ExecuteTime": {
     "end_time": "2023-08-12T08:08:40.067241Z",
     "start_time": "2023-08-12T08:08:39.801431Z"
    }
   },
   "id": "7a0923f1c5788581"
  },
  {
   "cell_type": "code",
   "execution_count": 26,
   "outputs": [
    {
     "data": {
      "text/plain": "array([[1., 1., 1.],\n       [1., 1., 1.]])"
     },
     "execution_count": 26,
     "metadata": {},
     "output_type": "execute_result"
    }
   ],
   "source": [
    "# Create a Numpy array of ones\n",
    "ones = np.ones((2, 3))\n",
    "ones"
   ],
   "metadata": {
    "collapsed": false,
    "ExecuteTime": {
     "end_time": "2023-08-12T08:09:15.525215Z",
     "start_time": "2023-08-12T08:09:15.466093Z"
    }
   },
   "id": "901ab012fbc1e175"
  },
  {
   "cell_type": "code",
   "execution_count": 27,
   "outputs": [
    {
     "data": {
      "text/plain": "array([[0., 0., 0.],\n       [0., 0., 0.]])"
     },
     "execution_count": 27,
     "metadata": {},
     "output_type": "execute_result"
    }
   ],
   "source": [
    "zeros = np.zeros((2, 3))\n",
    "zeros"
   ],
   "metadata": {
    "collapsed": false,
    "ExecuteTime": {
     "end_time": "2023-08-12T08:09:49.349559Z",
     "start_time": "2023-08-12T08:09:49.292267Z"
    }
   },
   "id": "d5706dcce867e5e7"
  },
  {
   "cell_type": "code",
   "execution_count": 28,
   "outputs": [
    {
     "data": {
      "text/plain": "array([[1, 1, 1],\n       [1, 1, 1]])"
     },
     "execution_count": 28,
     "metadata": {},
     "output_type": "execute_result"
    }
   ],
   "source": [
    "ones_int_type = np.ones((2, 3), dtype=int)\n",
    "ones_int_type"
   ],
   "metadata": {
    "collapsed": false,
    "ExecuteTime": {
     "end_time": "2023-08-12T08:10:48.001429Z",
     "start_time": "2023-08-12T08:10:47.920200Z"
    }
   },
   "id": "23d91cbadb3e605d"
  },
  {
   "cell_type": "code",
   "execution_count": 29,
   "outputs": [
    {
     "data": {
      "text/plain": "array([0, 2, 4, 6, 8])"
     },
     "execution_count": 29,
     "metadata": {},
     "output_type": "execute_result"
    }
   ],
   "source": [
    "# Create a Numpy array of range\n",
    "range_array = np.arange(0, 10, 2)\n",
    "range_array"
   ],
   "metadata": {
    "collapsed": false,
    "ExecuteTime": {
     "end_time": "2023-08-12T09:20:28.632005Z",
     "start_time": "2023-08-12T09:20:28.577058Z"
    }
   },
   "id": "edfd9851c560aa9a"
  },
  {
   "cell_type": "code",
   "execution_count": 30,
   "outputs": [],
   "source": [
    "random_array = np.random.randint(0, 10, size=(3, 5))"
   ],
   "metadata": {
    "collapsed": false,
    "ExecuteTime": {
     "end_time": "2023-08-12T09:21:27.700859Z",
     "start_time": "2023-08-12T09:21:27.623594Z"
    }
   },
   "id": "e085fefb6c7df432"
  },
  {
   "cell_type": "code",
   "execution_count": 31,
   "outputs": [
    {
     "data": {
      "text/plain": "array([[5, 9, 4, 4, 0],\n       [1, 5, 5, 7, 2],\n       [2, 2, 4, 4, 8]])"
     },
     "execution_count": 31,
     "metadata": {},
     "output_type": "execute_result"
    }
   ],
   "source": [
    "random_array"
   ],
   "metadata": {
    "collapsed": false,
    "ExecuteTime": {
     "end_time": "2023-08-12T09:21:30.713853Z",
     "start_time": "2023-08-12T09:21:30.677733Z"
    }
   },
   "id": "e01b2d9ce3c8b57a"
  },
  {
   "cell_type": "code",
   "execution_count": 32,
   "outputs": [
    {
     "data": {
      "text/plain": "15"
     },
     "execution_count": 32,
     "metadata": {},
     "output_type": "execute_result"
    }
   ],
   "source": [
    "random_array.size"
   ],
   "metadata": {
    "collapsed": false,
    "ExecuteTime": {
     "end_time": "2023-08-12T09:22:29.027062Z",
     "start_time": "2023-08-12T09:22:28.969267Z"
    }
   },
   "id": "ed3d90224e69652d"
  },
  {
   "cell_type": "code",
   "execution_count": 33,
   "outputs": [
    {
     "data": {
      "text/plain": "(3, 5)"
     },
     "execution_count": 33,
     "metadata": {},
     "output_type": "execute_result"
    }
   ],
   "source": [
    "random_array.shape"
   ],
   "metadata": {
    "collapsed": false,
    "ExecuteTime": {
     "end_time": "2023-08-12T09:22:32.894165Z",
     "start_time": "2023-08-12T09:22:32.836800Z"
    }
   },
   "id": "2e50efabc84d85ac"
  },
  {
   "cell_type": "code",
   "execution_count": 34,
   "outputs": [
    {
     "data": {
      "text/plain": "array([[0.51063949, 0.27629548, 0.82093517],\n       [0.13619236, 0.90789623, 0.98611203],\n       [0.26352167, 0.68428262, 0.56016498],\n       [0.71147787, 0.33588189, 0.19683668],\n       [0.2423228 , 0.52541664, 0.02866628]])"
     },
     "execution_count": 34,
     "metadata": {},
     "output_type": "execute_result"
    }
   ],
   "source": [
    "random_array_2 = np.random.random((5, 3))\n",
    "random_array_2"
   ],
   "metadata": {
    "collapsed": false,
    "ExecuteTime": {
     "end_time": "2023-08-12T09:22:54.128504Z",
     "start_time": "2023-08-12T09:22:54.072346Z"
    }
   },
   "id": "51a8f6d867ef858e"
  },
  {
   "cell_type": "code",
   "execution_count": 48,
   "outputs": [
    {
     "data": {
      "text/plain": "array([[0.63992102, 0.14335329, 0.94466892],\n       [0.52184832, 0.41466194, 0.26455561],\n       [0.77423369, 0.45615033, 0.56843395],\n       [0.0187898 , 0.6176355 , 0.61209572],\n       [0.616934  , 0.94374808, 0.6818203 ]])"
     },
     "execution_count": 48,
     "metadata": {},
     "output_type": "execute_result"
    }
   ],
   "source": [
    "random_array_3 = np.random.rand(5, 3)\n",
    "random_array_3"
   ],
   "metadata": {
    "collapsed": false,
    "ExecuteTime": {
     "end_time": "2023-08-12T09:29:59.191883Z",
     "start_time": "2023-08-12T09:29:59.171062Z"
    }
   },
   "id": "199d8121f35ba1a4"
  },
  {
   "cell_type": "code",
   "execution_count": 50,
   "outputs": [
    {
     "data": {
      "text/plain": "array([[5, 0, 3],\n       [3, 7, 9],\n       [3, 5, 2],\n       [4, 7, 6],\n       [8, 8, 1]])"
     },
     "execution_count": 50,
     "metadata": {},
     "output_type": "execute_result"
    }
   ],
   "source": [
    "# Pseudo-random numbers\n",
    "np.random.seed(seed=0)\n",
    "random_array_4 = np.random.randint(10, size=(5, 3))\n",
    "random_array_4"
   ],
   "metadata": {
    "collapsed": false,
    "ExecuteTime": {
     "end_time": "2023-08-12T09:30:03.512222Z",
     "start_time": "2023-08-12T09:30:03.474221Z"
    }
   },
   "id": "caf7e7c2b1d0b219"
  },
  {
   "cell_type": "code",
   "execution_count": 51,
   "outputs": [
    {
     "data": {
      "text/plain": "15"
     },
     "execution_count": 51,
     "metadata": {},
     "output_type": "execute_result"
    }
   ],
   "source": [
    "random_array_4.size"
   ],
   "metadata": {
    "collapsed": false,
    "ExecuteTime": {
     "end_time": "2023-08-12T09:30:31.882589Z",
     "start_time": "2023-08-12T09:30:31.825991Z"
    }
   },
   "id": "4451cb49329bfca4"
  },
  {
   "cell_type": "code",
   "execution_count": 52,
   "outputs": [
    {
     "data": {
      "text/plain": "(5, 3)"
     },
     "execution_count": 52,
     "metadata": {},
     "output_type": "execute_result"
    }
   ],
   "source": [
    "random_array_4.shape"
   ],
   "metadata": {
    "collapsed": false,
    "ExecuteTime": {
     "end_time": "2023-08-12T09:30:34.574059Z",
     "start_time": "2023-08-12T09:30:34.493638Z"
    }
   },
   "id": "bc2e48dec58bd494"
  },
  {
   "cell_type": "code",
   "execution_count": 53,
   "outputs": [],
   "source": [
    "np.random.seed(7)"
   ],
   "metadata": {
    "collapsed": false,
    "ExecuteTime": {
     "end_time": "2023-08-12T09:31:07.089517Z",
     "start_time": "2023-08-12T09:31:07.036283Z"
    }
   },
   "id": "fb879b5a99db762e"
  },
  {
   "cell_type": "code",
   "execution_count": 54,
   "outputs": [
    {
     "data": {
      "text/plain": "array([[0.07630829, 0.77991879, 0.43840923],\n       [0.72346518, 0.97798951, 0.53849587],\n       [0.50112046, 0.07205113, 0.26843898],\n       [0.4998825 , 0.67923   , 0.80373904],\n       [0.38094113, 0.06593635, 0.2881456 ]])"
     },
     "execution_count": 54,
     "metadata": {},
     "output_type": "execute_result"
    }
   ],
   "source": [
    "random_array_5 = np.random.random((5, 3))\n",
    "random_array_5"
   ],
   "metadata": {
    "collapsed": false,
    "ExecuteTime": {
     "end_time": "2023-08-12T09:31:11.488942Z",
     "start_time": "2023-08-12T09:31:11.436467Z"
    }
   },
   "id": "f8290f72bddac761"
  },
  {
   "cell_type": "code",
   "execution_count": 55,
   "outputs": [
    {
     "data": {
      "text/plain": "(5, 3)"
     },
     "execution_count": 55,
     "metadata": {},
     "output_type": "execute_result"
    }
   ],
   "source": [
    "random_array_5.shape"
   ],
   "metadata": {
    "collapsed": false,
    "ExecuteTime": {
     "end_time": "2023-08-12T09:31:16.222635Z",
     "start_time": "2023-08-12T09:31:16.178220Z"
    }
   },
   "id": "e43b74e9d09abab7"
  },
  {
   "cell_type": "code",
   "execution_count": 56,
   "outputs": [
    {
     "data": {
      "text/plain": "15"
     },
     "execution_count": 56,
     "metadata": {},
     "output_type": "execute_result"
    }
   ],
   "source": [
    "random_array_5.size"
   ],
   "metadata": {
    "collapsed": false,
    "ExecuteTime": {
     "end_time": "2023-08-12T09:31:17.967199Z",
     "start_time": "2023-08-12T09:31:17.840297Z"
    }
   },
   "id": "83485963b259c6db"
  },
  {
   "cell_type": "code",
   "execution_count": 59,
   "outputs": [
    {
     "data": {
      "text/plain": "array([[0.07630829, 0.77991879, 0.43840923],\n       [0.72346518, 0.97798951, 0.53849587],\n       [0.50112046, 0.07205113, 0.26843898],\n       [0.4998825 , 0.67923   , 0.80373904],\n       [0.38094113, 0.06593635, 0.2881456 ]])"
     },
     "execution_count": 59,
     "metadata": {},
     "output_type": "execute_result"
    }
   ],
   "source": [
    "np.random.seed(7)\n",
    "random_array_5 = np.random.random((5, 3))\n",
    "random_array_5"
   ],
   "metadata": {
    "collapsed": false,
    "ExecuteTime": {
     "end_time": "2023-08-12T09:32:04.090214Z",
     "start_time": "2023-08-12T09:32:04.063214Z"
    }
   },
   "id": "c4924515a422b87f"
  },
  {
   "cell_type": "code",
   "execution_count": 60,
   "outputs": [
    {
     "data": {
      "text/plain": "array([0.06593635, 0.07205113, 0.07630829, 0.26843898, 0.2881456 ,\n       0.38094113, 0.43840923, 0.4998825 , 0.50112046, 0.53849587,\n       0.67923   , 0.72346518, 0.77991879, 0.80373904, 0.97798951])"
     },
     "execution_count": 60,
     "metadata": {},
     "output_type": "execute_result"
    }
   ],
   "source": [
    "np.unique(random_array_5)"
   ],
   "metadata": {
    "collapsed": false,
    "ExecuteTime": {
     "end_time": "2023-08-12T09:36:34.379025Z",
     "start_time": "2023-08-12T09:36:34.300852Z"
    }
   },
   "id": "d45c4623004853b1"
  },
  {
   "cell_type": "code",
   "execution_count": 61,
   "outputs": [],
   "source": [
    "unique_elements, counts = np.unique(random_array_5, return_counts=True)"
   ],
   "metadata": {
    "collapsed": false,
    "ExecuteTime": {
     "end_time": "2023-08-12T09:37:58.994937Z",
     "start_time": "2023-08-12T09:37:58.902860Z"
    }
   },
   "id": "7f018124a6533ddc"
  },
  {
   "cell_type": "code",
   "execution_count": 62,
   "outputs": [
    {
     "data": {
      "text/plain": "array([0.06593635, 0.07205113, 0.07630829, 0.26843898, 0.2881456 ,\n       0.38094113, 0.43840923, 0.4998825 , 0.50112046, 0.53849587,\n       0.67923   , 0.72346518, 0.77991879, 0.80373904, 0.97798951])"
     },
     "execution_count": 62,
     "metadata": {},
     "output_type": "execute_result"
    }
   ],
   "source": [
    "unique_elements"
   ],
   "metadata": {
    "collapsed": false,
    "ExecuteTime": {
     "end_time": "2023-08-12T09:38:01.090423Z",
     "start_time": "2023-08-12T09:38:01.011043Z"
    }
   },
   "id": "d51291c3c6bbb7ff"
  },
  {
   "cell_type": "code",
   "execution_count": 63,
   "outputs": [
    {
     "data": {
      "text/plain": "array([], dtype=float64)"
     },
     "execution_count": 63,
     "metadata": {},
     "output_type": "execute_result"
    }
   ],
   "source": [
    "duplicates = unique_elements[counts > 1]\n",
    "duplicates"
   ],
   "metadata": {
    "collapsed": false,
    "ExecuteTime": {
     "end_time": "2023-08-12T09:38:14.280813Z",
     "start_time": "2023-08-12T09:38:14.067329Z"
    }
   },
   "id": "aaf9444417f34edb"
  },
  {
   "cell_type": "markdown",
   "source": [
    "## Viewing arrays and matrices"
   ],
   "metadata": {
    "collapsed": false
   },
   "id": "e6328a373aed2bb4"
  },
  {
   "cell_type": "code",
   "execution_count": 64,
   "outputs": [
    {
     "data": {
      "text/plain": "array([[5, 0, 3],\n       [3, 7, 9],\n       [3, 5, 2],\n       [4, 7, 6],\n       [8, 8, 1]])"
     },
     "execution_count": 64,
     "metadata": {},
     "output_type": "execute_result"
    }
   ],
   "source": [
    "random_array_4"
   ],
   "metadata": {
    "collapsed": false,
    "ExecuteTime": {
     "end_time": "2023-08-12T09:39:47.035317Z",
     "start_time": "2023-08-12T09:39:46.978459Z"
    }
   },
   "id": "5155be5312765c73"
  },
  {
   "cell_type": "code",
   "execution_count": 65,
   "outputs": [
    {
     "data": {
      "text/plain": "array([[1. , 2. , 3.3],\n       [4. , 5. , 6.5]])"
     },
     "execution_count": 65,
     "metadata": {},
     "output_type": "execute_result"
    }
   ],
   "source": [
    "a2"
   ],
   "metadata": {
    "collapsed": false,
    "ExecuteTime": {
     "end_time": "2023-08-12T09:39:52.404019Z",
     "start_time": "2023-08-12T09:39:52.314973Z"
    }
   },
   "id": "f193df21b81ad52f"
  },
  {
   "cell_type": "code",
   "execution_count": 66,
   "outputs": [
    {
     "data": {
      "text/plain": "array([[[ 1,  2,  3],\n        [ 4,  5,  6],\n        [ 7,  8,  9]],\n\n       [[10, 11, 12],\n        [13, 14, 15],\n        [16, 17, 18]]])"
     },
     "execution_count": 66,
     "metadata": {},
     "output_type": "execute_result"
    }
   ],
   "source": [
    "a3"
   ],
   "metadata": {
    "collapsed": false,
    "ExecuteTime": {
     "end_time": "2023-08-12T09:39:55.163495Z",
     "start_time": "2023-08-12T09:39:55.075154Z"
    }
   },
   "id": "522367a4ed28bad2"
  },
  {
   "cell_type": "code",
   "execution_count": 67,
   "outputs": [
    {
     "data": {
      "text/plain": "array([[1, 2, 3],\n       [4, 5, 6],\n       [7, 8, 9]])"
     },
     "execution_count": 67,
     "metadata": {},
     "output_type": "execute_result"
    }
   ],
   "source": [
    "a3[0]"
   ],
   "metadata": {
    "collapsed": false,
    "ExecuteTime": {
     "end_time": "2023-08-12T09:40:01.494385Z",
     "start_time": "2023-08-12T09:40:01.415799Z"
    }
   },
   "id": "14a18110679eedeb"
  },
  {
   "cell_type": "code",
   "execution_count": 68,
   "outputs": [
    {
     "data": {
      "text/plain": "array([1, 2, 3])"
     },
     "execution_count": 68,
     "metadata": {},
     "output_type": "execute_result"
    }
   ],
   "source": [
    "a3[0][0]"
   ],
   "metadata": {
    "collapsed": false,
    "ExecuteTime": {
     "end_time": "2023-08-12T09:40:08.649966Z",
     "start_time": "2023-08-12T09:40:08.577643Z"
    }
   },
   "id": "1eb8e74927558acf"
  },
  {
   "cell_type": "code",
   "execution_count": 69,
   "outputs": [
    {
     "data": {
      "text/plain": "1"
     },
     "execution_count": 69,
     "metadata": {},
     "output_type": "execute_result"
    }
   ],
   "source": [
    "a3[0][0][0]"
   ],
   "metadata": {
    "collapsed": false,
    "ExecuteTime": {
     "end_time": "2023-08-12T09:41:47.703511Z",
     "start_time": "2023-08-12T09:41:47.620581Z"
    }
   },
   "id": "4a0b4c9a0d1907dd"
  },
  {
   "cell_type": "code",
   "execution_count": 70,
   "outputs": [
    {
     "data": {
      "text/plain": "array([[5, 0, 3],\n       [3, 7, 9],\n       [3, 5, 2],\n       [4, 7, 6],\n       [8, 8, 1]])"
     },
     "execution_count": 70,
     "metadata": {},
     "output_type": "execute_result"
    }
   ],
   "source": [
    "random_array_4"
   ],
   "metadata": {
    "collapsed": false,
    "ExecuteTime": {
     "end_time": "2023-08-12T09:43:28.642693Z",
     "start_time": "2023-08-12T09:43:28.553205Z"
    }
   },
   "id": "ee28d912098b575d"
  },
  {
   "cell_type": "code",
   "execution_count": 71,
   "outputs": [
    {
     "data": {
      "text/plain": "array([[[ 1,  2,  3],\n        [ 4,  5,  6],\n        [ 7,  8,  9]],\n\n       [[10, 11, 12],\n        [13, 14, 15],\n        [16, 17, 18]]])"
     },
     "execution_count": 71,
     "metadata": {},
     "output_type": "execute_result"
    }
   ],
   "source": [
    "a3"
   ],
   "metadata": {
    "collapsed": false,
    "ExecuteTime": {
     "end_time": "2023-08-12T09:43:49.785622Z",
     "start_time": "2023-08-12T09:43:49.720994Z"
    }
   },
   "id": "8ad9890ad30b8ef"
  },
  {
   "cell_type": "code",
   "execution_count": 72,
   "outputs": [
    {
     "data": {
      "text/plain": "(2, 3, 3)"
     },
     "execution_count": 72,
     "metadata": {},
     "output_type": "execute_result"
    }
   ],
   "source": [
    "a3.shape"
   ],
   "metadata": {
    "collapsed": false,
    "ExecuteTime": {
     "end_time": "2023-08-12T09:43:55.152901Z",
     "start_time": "2023-08-12T09:43:55.017633Z"
    }
   },
   "id": "a2b03f75ff3f76d1"
  },
  {
   "cell_type": "code",
   "execution_count": 73,
   "outputs": [
    {
     "data": {
      "text/plain": "array([[[[3, 5, 8, 8, 7],\n         [5, 0, 0, 2, 8],\n         [9, 6, 4, 9, 7],\n         [3, 3, 8, 3, 0]],\n\n        [[1, 0, 0, 6, 7],\n         [7, 9, 3, 0, 7],\n         [7, 7, 0, 5, 4],\n         [3, 1, 3, 1, 3]],\n\n        [[4, 3, 1, 9, 5],\n         [9, 1, 2, 3, 2],\n         [2, 5, 7, 3, 0],\n         [9, 9, 3, 4, 5]]],\n\n\n       [[[3, 0, 4, 8, 6],\n         [7, 2, 7, 3, 8],\n         [6, 6, 5, 6, 5],\n         [7, 1, 5, 4, 4]],\n\n        [[9, 9, 0, 6, 2],\n         [6, 8, 2, 4, 1],\n         [6, 1, 5, 1, 6],\n         [9, 8, 6, 5, 9]],\n\n        [[7, 5, 4, 9, 6],\n         [8, 1, 5, 5, 8],\n         [3, 7, 7, 9, 4],\n         [7, 5, 9, 6, 2]]]])"
     },
     "execution_count": 73,
     "metadata": {},
     "output_type": "execute_result"
    }
   ],
   "source": [
    "a4 = np.random.randint(10, size=(2, 3, 4, 5))\n",
    "a4"
   ],
   "metadata": {
    "collapsed": false,
    "ExecuteTime": {
     "end_time": "2023-08-12T09:44:23.469511Z",
     "start_time": "2023-08-12T09:44:23.370262Z"
    }
   },
   "id": "ba2b41c586329b81"
  },
  {
   "cell_type": "markdown",
   "source": [
    "## Get the first 4 numbers of the inner most arrays"
   ],
   "metadata": {
    "collapsed": false
   },
   "id": "75f7c5dff9fce72a"
  },
  {
   "cell_type": "code",
   "execution_count": 74,
   "outputs": [
    {
     "data": {
      "text/plain": "array([[[[3, 5, 8, 8],\n         [5, 0, 0, 2],\n         [9, 6, 4, 9],\n         [3, 3, 8, 3]],\n\n        [[1, 0, 0, 6],\n         [7, 9, 3, 0],\n         [7, 7, 0, 5],\n         [3, 1, 3, 1]],\n\n        [[4, 3, 1, 9],\n         [9, 1, 2, 3],\n         [2, 5, 7, 3],\n         [9, 9, 3, 4]]],\n\n\n       [[[3, 0, 4, 8],\n         [7, 2, 7, 3],\n         [6, 6, 5, 6],\n         [7, 1, 5, 4]],\n\n        [[9, 9, 0, 6],\n         [6, 8, 2, 4],\n         [6, 1, 5, 1],\n         [9, 8, 6, 5]],\n\n        [[7, 5, 4, 9],\n         [8, 1, 5, 5],\n         [3, 7, 7, 9],\n         [7, 5, 9, 6]]]])"
     },
     "execution_count": 74,
     "metadata": {},
     "output_type": "execute_result"
    }
   ],
   "source": [
    "a4[:, :, :, :4]"
   ],
   "metadata": {
    "collapsed": false,
    "ExecuteTime": {
     "end_time": "2023-08-12T09:45:43.866884Z",
     "start_time": "2023-08-12T09:45:43.754448Z"
    }
   },
   "id": "2860de6cb7c0a78b"
  },
  {
   "cell_type": "code",
   "execution_count": 76,
   "outputs": [
    {
     "data": {
      "text/plain": "array([3, 5, 8, 8, 7])"
     },
     "execution_count": 76,
     "metadata": {},
     "output_type": "execute_result"
    }
   ],
   "source": [
    "a4[0][0][0]"
   ],
   "metadata": {
    "collapsed": false,
    "ExecuteTime": {
     "end_time": "2023-08-12T09:46:16.179853Z",
     "start_time": "2023-08-12T09:46:16.110342Z"
    }
   },
   "id": "8ec7f9ecad04dcab"
  },
  {
   "cell_type": "code",
   "execution_count": 77,
   "outputs": [
    {
     "data": {
      "text/plain": "array([[[[3, 5, 8, 8],\n         [5, 0, 0, 2],\n         [9, 6, 4, 9],\n         [3, 3, 8, 3]],\n\n        [[1, 0, 0, 6],\n         [7, 9, 3, 0],\n         [7, 7, 0, 5],\n         [3, 1, 3, 1]],\n\n        [[4, 3, 1, 9],\n         [9, 1, 2, 3],\n         [2, 5, 7, 3],\n         [9, 9, 3, 4]]],\n\n\n       [[[3, 0, 4, 8],\n         [7, 2, 7, 3],\n         [6, 6, 5, 6],\n         [7, 1, 5, 4]],\n\n        [[9, 9, 0, 6],\n         [6, 8, 2, 4],\n         [6, 1, 5, 1],\n         [9, 8, 6, 5]],\n\n        [[7, 5, 4, 9],\n         [8, 1, 5, 5],\n         [3, 7, 7, 9],\n         [7, 5, 9, 6]]]])"
     },
     "execution_count": 77,
     "metadata": {},
     "output_type": "execute_result"
    }
   ],
   "source": [
    "a4[:, :, :, :4]"
   ],
   "metadata": {
    "collapsed": false,
    "ExecuteTime": {
     "end_time": "2023-08-12T09:47:06.639692Z",
     "start_time": "2023-08-12T09:47:06.572223Z"
    }
   },
   "id": "c8cf7f3caea73aa8"
  },
  {
   "cell_type": "code",
   "execution_count": 78,
   "outputs": [
    {
     "data": {
      "text/plain": "(2, 3, 4, 4)"
     },
     "execution_count": 78,
     "metadata": {},
     "output_type": "execute_result"
    }
   ],
   "source": [
    "a4[:, :, :, :4].shape"
   ],
   "metadata": {
    "collapsed": false,
    "ExecuteTime": {
     "end_time": "2023-08-12T09:47:24.925967Z",
     "start_time": "2023-08-12T09:47:24.758890Z"
    }
   },
   "id": "65c0b84a28b40ace"
  },
  {
   "cell_type": "markdown",
   "source": [
    "## Manipulating and comparing arrays"
   ],
   "metadata": {
    "collapsed": false
   },
   "id": "d10615821c7e8c99"
  },
  {
   "cell_type": "markdown",
   "source": [
    "### Arithmetic"
   ],
   "metadata": {
    "collapsed": false
   },
   "id": "e511b1fb3a2e7f03"
  },
  {
   "cell_type": "code",
   "execution_count": 80,
   "outputs": [
    {
     "data": {
      "text/plain": "array([[2., 3., 4.],\n       [2., 3., 4.]])"
     },
     "execution_count": 80,
     "metadata": {},
     "output_type": "execute_result"
    }
   ],
   "source": [
    "a1+ones"
   ],
   "metadata": {
    "collapsed": false,
    "ExecuteTime": {
     "end_time": "2023-08-12T10:27:06.106787Z",
     "start_time": "2023-08-12T10:27:06.003202Z"
    }
   },
   "id": "a51e00dbeb1988bd"
  },
  {
   "cell_type": "code",
   "execution_count": 81,
   "outputs": [
    {
     "data": {
      "text/plain": "array([[1., 1., 1.],\n       [1., 1., 1.]])"
     },
     "execution_count": 81,
     "metadata": {},
     "output_type": "execute_result"
    }
   ],
   "source": [
    "ones"
   ],
   "metadata": {
    "collapsed": false,
    "ExecuteTime": {
     "end_time": "2023-08-12T10:27:26.969662Z",
     "start_time": "2023-08-12T10:27:26.884827Z"
    }
   },
   "id": "b2e7fd31d3592fb7"
  },
  {
   "cell_type": "code",
   "execution_count": 82,
   "outputs": [],
   "source": [
    "ones = np.ones(3)"
   ],
   "metadata": {
    "collapsed": false,
    "ExecuteTime": {
     "end_time": "2023-08-12T10:27:36.389031Z",
     "start_time": "2023-08-12T10:27:36.276228Z"
    }
   },
   "id": "3af7ae3b1199b8cf"
  },
  {
   "cell_type": "code",
   "execution_count": 83,
   "outputs": [
    {
     "data": {
      "text/plain": "array([2., 3., 4.])"
     },
     "execution_count": 83,
     "metadata": {},
     "output_type": "execute_result"
    }
   ],
   "source": [
    "ones + a1"
   ],
   "metadata": {
    "collapsed": false,
    "ExecuteTime": {
     "end_time": "2023-08-12T10:27:41.098427Z",
     "start_time": "2023-08-12T10:27:40.988380Z"
    }
   },
   "id": "e110041b39c7ee73"
  },
  {
   "cell_type": "code",
   "execution_count": 84,
   "outputs": [
    {
     "data": {
      "text/plain": "array([0., 1., 2.])"
     },
     "execution_count": 84,
     "metadata": {},
     "output_type": "execute_result"
    }
   ],
   "source": [
    "a1 - ones"
   ],
   "metadata": {
    "collapsed": false,
    "ExecuteTime": {
     "end_time": "2023-08-12T10:27:51.928724Z",
     "start_time": "2023-08-12T10:27:51.823169Z"
    }
   },
   "id": "6449f1db1b9f257d"
  },
  {
   "cell_type": "code",
   "execution_count": 85,
   "outputs": [
    {
     "data": {
      "text/plain": "array([1., 2., 3.])"
     },
     "execution_count": 85,
     "metadata": {},
     "output_type": "execute_result"
    }
   ],
   "source": [
    "a1 * ones"
   ],
   "metadata": {
    "collapsed": false,
    "ExecuteTime": {
     "end_time": "2023-08-12T10:28:03.550159Z",
     "start_time": "2023-08-12T10:28:03.422168Z"
    }
   },
   "id": "fea9a18f868b6c1d"
  },
  {
   "cell_type": "code",
   "execution_count": 86,
   "outputs": [
    {
     "data": {
      "text/plain": "(3,)"
     },
     "execution_count": 86,
     "metadata": {},
     "output_type": "execute_result"
    }
   ],
   "source": [
    "a1.shape"
   ],
   "metadata": {
    "collapsed": false,
    "ExecuteTime": {
     "end_time": "2023-08-12T10:29:47.294302Z",
     "start_time": "2023-08-12T10:29:47.131085Z"
    }
   },
   "id": "89d2da690338652"
  },
  {
   "cell_type": "code",
   "execution_count": 87,
   "outputs": [
    {
     "data": {
      "text/plain": "(2, 3)"
     },
     "execution_count": 87,
     "metadata": {},
     "output_type": "execute_result"
    }
   ],
   "source": [
    "a2.shape"
   ],
   "metadata": {
    "collapsed": false,
    "ExecuteTime": {
     "end_time": "2023-08-12T10:29:53.115858Z",
     "start_time": "2023-08-12T10:29:52.981248Z"
    }
   },
   "id": "396d07e1ffcb0054"
  },
  {
   "cell_type": "code",
   "execution_count": 88,
   "outputs": [
    {
     "data": {
      "text/plain": "array([[ 1. ,  4. ,  9.9],\n       [ 4. , 10. , 19.5]])"
     },
     "execution_count": 88,
     "metadata": {},
     "output_type": "execute_result"
    }
   ],
   "source": [
    "a1 * a2"
   ],
   "metadata": {
    "collapsed": false,
    "ExecuteTime": {
     "end_time": "2023-08-12T10:29:55.435584Z",
     "start_time": "2023-08-12T10:29:55.345354Z"
    }
   },
   "id": "495f2776b4de1be"
  },
  {
   "cell_type": "code",
   "execution_count": 89,
   "outputs": [
    {
     "data": {
      "text/plain": "(2, 3, 3)"
     },
     "execution_count": 89,
     "metadata": {},
     "output_type": "execute_result"
    }
   ],
   "source": [
    "a3.shape"
   ],
   "metadata": {
    "collapsed": false,
    "ExecuteTime": {
     "end_time": "2023-08-12T10:30:03.786824Z",
     "start_time": "2023-08-12T10:30:03.684737Z"
    }
   },
   "id": "386f14fc44334487"
  },
  {
   "cell_type": "code",
   "execution_count": 93,
   "outputs": [
    {
     "ename": "ValueError",
     "evalue": "operands could not be broadcast together with shapes (2,3) (2,3,3) ",
     "output_type": "error",
     "traceback": [
      "\u001B[0;31m---------------------------------------------------------------------------\u001B[0m",
      "\u001B[0;31mValueError\u001B[0m                                Traceback (most recent call last)",
      "Cell \u001B[0;32mIn[93], line 1\u001B[0m\n\u001B[0;32m----> 1\u001B[0m \u001B[43ma2\u001B[49m\u001B[43m \u001B[49m\u001B[38;5;241;43m*\u001B[39;49m\u001B[43m \u001B[49m\u001B[43ma3\u001B[49m\n",
      "\u001B[0;31mValueError\u001B[0m: operands could not be broadcast together with shapes (2,3) (2,3,3) "
     ]
    }
   ],
   "source": [
    "a2 * a3"
   ],
   "metadata": {
    "collapsed": false,
    "ExecuteTime": {
     "end_time": "2023-08-12T11:44:40.560664Z",
     "start_time": "2023-08-12T11:44:40.518165Z"
    }
   },
   "id": "dd609fe1ca4e0e0a"
  },
  {
   "cell_type": "code",
   "execution_count": 94,
   "outputs": [],
   "source": [
    "reshaped_a2 = a2.reshape(2, 3, 1)"
   ],
   "metadata": {
    "collapsed": false,
    "ExecuteTime": {
     "end_time": "2023-08-12T11:44:44.662615Z",
     "start_time": "2023-08-12T11:44:44.634331Z"
    }
   },
   "id": "775eafa5a03bae76"
  },
  {
   "cell_type": "code",
   "execution_count": 95,
   "outputs": [
    {
     "data": {
      "text/plain": "array([[[  1. ,   2. ,   3. ],\n        [  8. ,  10. ,  12. ],\n        [ 23.1,  26.4,  29.7]],\n\n       [[ 40. ,  44. ,  48. ],\n        [ 65. ,  70. ,  75. ],\n        [104. , 110.5, 117. ]]])"
     },
     "execution_count": 95,
     "metadata": {},
     "output_type": "execute_result"
    }
   ],
   "source": [
    "reshaped_a2 * a3"
   ],
   "metadata": {
    "collapsed": false,
    "ExecuteTime": {
     "end_time": "2023-08-12T11:44:45.704175Z",
     "start_time": "2023-08-12T11:44:45.652667Z"
    }
   },
   "id": "3e77de0dcce01bec"
  },
  {
   "cell_type": "code",
   "execution_count": 96,
   "outputs": [
    {
     "data": {
      "text/plain": "array([[1., 1., 1.],\n       [4., 2., 2.]])"
     },
     "execution_count": 96,
     "metadata": {},
     "output_type": "execute_result"
    }
   ],
   "source": [
    "a2 // a1"
   ],
   "metadata": {
    "collapsed": false,
    "ExecuteTime": {
     "end_time": "2023-08-12T11:45:17.229893Z",
     "start_time": "2023-08-12T11:45:17.120876Z"
    }
   },
   "id": "dedec68ddcc1f447"
  },
  {
   "cell_type": "code",
   "execution_count": 97,
   "outputs": [
    {
     "data": {
      "text/plain": "array([[ 1.  ,  4.  , 10.89],\n       [16.  , 25.  , 42.25]])"
     },
     "execution_count": 97,
     "metadata": {},
     "output_type": "execute_result"
    }
   ],
   "source": [
    "a2 ** 2"
   ],
   "metadata": {
    "collapsed": false,
    "ExecuteTime": {
     "end_time": "2023-08-12T11:45:36.503619Z",
     "start_time": "2023-08-12T11:45:36.263018Z"
    }
   },
   "id": "564050b1d3fd0d98"
  },
  {
   "cell_type": "code",
   "execution_count": 98,
   "outputs": [
    {
     "data": {
      "text/plain": "array([[ 1.  ,  4.  , 10.89],\n       [16.  , 25.  , 42.25]])"
     },
     "execution_count": 98,
     "metadata": {},
     "output_type": "execute_result"
    }
   ],
   "source": [
    "np.square(a2)"
   ],
   "metadata": {
    "collapsed": false,
    "ExecuteTime": {
     "end_time": "2023-08-12T11:45:54.694962Z",
     "start_time": "2023-08-12T11:45:54.539298Z"
    }
   },
   "id": "a456dbb1d3e0b586"
  },
  {
   "cell_type": "code",
   "execution_count": 99,
   "outputs": [
    {
     "data": {
      "text/plain": "array([2., 3., 4.])"
     },
     "execution_count": 99,
     "metadata": {},
     "output_type": "execute_result"
    }
   ],
   "source": [
    "np.add(a1, ones)"
   ],
   "metadata": {
    "collapsed": false,
    "ExecuteTime": {
     "end_time": "2023-08-12T11:46:08.808138Z",
     "start_time": "2023-08-12T11:46:08.684108Z"
    }
   },
   "id": "15a9418944c6e6f"
  },
  {
   "cell_type": "markdown",
   "source": [
    "### Aggregation"
   ],
   "metadata": {
    "collapsed": false
   },
   "id": "849aa83170a673c5"
  },
  {
   "cell_type": "code",
   "execution_count": 101,
   "outputs": [
    {
     "data": {
      "text/plain": "6"
     },
     "execution_count": 101,
     "metadata": {},
     "output_type": "execute_result"
    }
   ],
   "source": [
    "np.sum(a1)"
   ],
   "metadata": {
    "collapsed": false,
    "ExecuteTime": {
     "end_time": "2023-08-12T12:04:33.709332Z",
     "start_time": "2023-08-12T12:04:33.591104Z"
    }
   },
   "id": "6f8fd6065f6d7988"
  },
  {
   "cell_type": "code",
   "execution_count": 102,
   "outputs": [],
   "source": [
    "massive_array = np.random.random(100000)"
   ],
   "metadata": {
    "collapsed": false,
    "ExecuteTime": {
     "end_time": "2023-08-12T12:04:41.642418Z",
     "start_time": "2023-08-12T12:04:41.552924Z"
    }
   },
   "id": "c1ba21af83801170"
  },
  {
   "cell_type": "code",
   "execution_count": 103,
   "outputs": [
    {
     "data": {
      "text/plain": "array([0.82845319, 0.94180927, 0.12814785, 0.23043067, 0.6591584 ,\n       0.13247399, 0.22407864, 0.57486259, 0.16952372, 0.78223015])"
     },
     "execution_count": 103,
     "metadata": {},
     "output_type": "execute_result"
    }
   ],
   "source": [
    "massive_array[:10]"
   ],
   "metadata": {
    "collapsed": false,
    "ExecuteTime": {
     "end_time": "2023-08-12T12:04:44.957683Z",
     "start_time": "2023-08-12T12:04:44.863597Z"
    }
   },
   "id": "fdcbb6b1a6abcf3a"
  },
  {
   "cell_type": "code",
   "execution_count": 104,
   "outputs": [
    {
     "name": "stdout",
     "output_type": "stream",
     "text": [
      "12.3 ms ± 585 µs per loop (mean ± std. dev. of 7 runs, 100 loops each)\n"
     ]
    }
   ],
   "source": [
    "%timeit sum(massive_array) # Python's sum()"
   ],
   "metadata": {
    "collapsed": false,
    "ExecuteTime": {
     "end_time": "2023-08-12T12:05:05.539803Z",
     "start_time": "2023-08-12T12:04:54.591944Z"
    }
   },
   "id": "2a699457602114f8"
  },
  {
   "cell_type": "code",
   "execution_count": 105,
   "outputs": [
    {
     "name": "stdout",
     "output_type": "stream",
     "text": [
      "78.6 µs ± 14.5 µs per loop (mean ± std. dev. of 7 runs, 10,000 loops each)\n"
     ]
    }
   ],
   "source": [
    "%timeit np.sum(massive_array) # Numpy's sum()"
   ],
   "metadata": {
    "collapsed": false,
    "ExecuteTime": {
     "end_time": "2023-08-12T12:05:18.174522Z",
     "start_time": "2023-08-12T12:05:10.807519Z"
    }
   },
   "id": "8cee9d37de63d4a2"
  },
  {
   "cell_type": "markdown",
   "source": [
    "## magic function start with %"
   ],
   "metadata": {
    "collapsed": false
   },
   "id": "f65310a690ea1bf3"
  },
  {
   "cell_type": "code",
   "execution_count": 106,
   "outputs": [
    {
     "data": {
      "text/plain": "3.6333333333333333"
     },
     "execution_count": 106,
     "metadata": {},
     "output_type": "execute_result"
    }
   ],
   "source": [
    "np.mean(a2)"
   ],
   "metadata": {
    "collapsed": false,
    "ExecuteTime": {
     "end_time": "2023-08-12T12:10:51.393154Z",
     "start_time": "2023-08-12T12:10:51.206179Z"
    }
   },
   "id": "ef03965cd05fcf83"
  },
  {
   "cell_type": "code",
   "execution_count": 107,
   "outputs": [
    {
     "data": {
      "text/plain": "6.5"
     },
     "execution_count": 107,
     "metadata": {},
     "output_type": "execute_result"
    }
   ],
   "source": [
    "np.max(a2)"
   ],
   "metadata": {
    "collapsed": false,
    "ExecuteTime": {
     "end_time": "2023-08-12T12:10:53.785451Z",
     "start_time": "2023-08-12T12:10:53.694911Z"
    }
   },
   "id": "45f32be1f7178def"
  },
  {
   "cell_type": "code",
   "execution_count": 108,
   "outputs": [
    {
     "data": {
      "text/plain": "1.0"
     },
     "execution_count": 108,
     "metadata": {},
     "output_type": "execute_result"
    }
   ],
   "source": [
    "np.min(a2)"
   ],
   "metadata": {
    "collapsed": false,
    "ExecuteTime": {
     "end_time": "2023-08-12T12:10:55.650883Z",
     "start_time": "2023-08-12T12:10:55.527067Z"
    }
   },
   "id": "4b4c307860248961"
  },
  {
   "cell_type": "markdown",
   "source": [
    "# Standard deviation = a measure of how spread out a group of numbers is from the mean"
   ],
   "metadata": {
    "collapsed": false
   },
   "id": "5a44c3c225b42a56"
  },
  {
   "cell_type": "code",
   "execution_count": 111,
   "outputs": [
    {
     "data": {
      "text/plain": "1.8226964152656422"
     },
     "execution_count": 111,
     "metadata": {},
     "output_type": "execute_result"
    }
   ],
   "source": [
    "np.std(a2)"
   ],
   "metadata": {
    "collapsed": false,
    "ExecuteTime": {
     "end_time": "2023-08-12T12:11:15.972572Z",
     "start_time": "2023-08-12T12:11:15.884477Z"
    }
   },
   "id": "d4fd373db5db10af"
  },
  {
   "cell_type": "code",
   "execution_count": null,
   "outputs": [],
   "source": [],
   "metadata": {
    "collapsed": false
   },
   "id": "526316e0c9e0b35f"
  }
 ],
 "metadata": {
  "kernelspec": {
   "display_name": "Python 3",
   "language": "python",
   "name": "python3"
  },
  "language_info": {
   "codemirror_mode": {
    "name": "ipython",
    "version": 2
   },
   "file_extension": ".py",
   "mimetype": "text/x-python",
   "name": "python",
   "nbconvert_exporter": "python",
   "pygments_lexer": "ipython2",
   "version": "2.7.6"
  }
 },
 "nbformat": 4,
 "nbformat_minor": 5
}
