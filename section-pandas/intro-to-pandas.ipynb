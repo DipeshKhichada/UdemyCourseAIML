{
 "cells": [
  {
   "cell_type": "markdown",
   "id": "b3516001da09a564",
   "metadata": {},
   "source": [
    "## Panda Different functionality analysis"
   ]
  },
  {
   "cell_type": "markdown",
   "id": "11183d26c0b588e8",
   "metadata": {},
   "source": [
    "### Pandas has two different types of data type"
   ]
  },
  {
   "cell_type": "markdown",
   "id": "18582faa6d85e91e",
   "metadata": {},
   "source": [
    "#### 1. Series\n",
    "#### 2. Dataframe"
   ]
  },
  {
   "cell_type": "code",
   "execution_count": 9,
   "id": "3087fc23cbeb5f4f",
   "metadata": {
    "ExecuteTime": {
     "end_time": "2023-08-11T14:14:19.714010Z",
     "start_time": "2023-08-11T14:14:19.689999Z"
    }
   },
   "outputs": [],
   "source": [
    "import pandas as pd"
   ]
  },
  {
   "cell_type": "code",
   "execution_count": 10,
   "id": "cf017b17775da9bb",
   "metadata": {
    "ExecuteTime": {
     "end_time": "2023-08-11T14:14:21.303195Z",
     "start_time": "2023-08-11T14:14:21.287374Z"
    }
   },
   "outputs": [],
   "source": [
    "car_series = [\"BMW\", \"MERCEDES\", \"JAGUAR\"]"
   ]
  },
  {
   "cell_type": "code",
   "execution_count": 11,
   "id": "c4d60419b508ccb6",
   "metadata": {
    "ExecuteTime": {
     "end_time": "2023-08-11T14:14:25.472263Z",
     "start_time": "2023-08-11T14:14:25.447124Z"
    }
   },
   "outputs": [
    {
     "data": {
      "text/plain": "['BMW', 'MERCEDES', 'JAGUAR']"
     },
     "execution_count": 11,
     "metadata": {},
     "output_type": "execute_result"
    }
   ],
   "source": [
    "car_series"
   ]
  },
  {
   "cell_type": "code",
   "execution_count": 12,
   "id": "88381021",
   "metadata": {
    "ExecuteTime": {
     "end_time": "2023-08-11T14:14:26.831362Z",
     "start_time": "2023-08-11T14:14:26.806280Z"
    }
   },
   "outputs": [
    {
     "data": {
      "text/plain": "0         BMW\n1    MERCEDES\n2      JAGUAR\ndtype: object"
     },
     "execution_count": 12,
     "metadata": {},
     "output_type": "execute_result"
    }
   ],
   "source": [
    "car_series = pd.Series(car_series)\n",
    "car_series"
   ]
  },
  {
   "cell_type": "code",
   "execution_count": 13,
   "id": "10f1d80c",
   "metadata": {
    "ExecuteTime": {
     "end_time": "2023-08-11T14:14:29.028989Z",
     "start_time": "2023-08-11T14:14:29.013901Z"
    }
   },
   "outputs": [],
   "source": [
    "colors_series = pd.Series([\"RED\", \"Black\", \"White\"])"
   ]
  },
  {
   "cell_type": "code",
   "execution_count": 14,
   "id": "bbb46202",
   "metadata": {
    "ExecuteTime": {
     "end_time": "2023-08-11T14:14:30.156083Z",
     "start_time": "2023-08-11T14:14:30.087057Z"
    }
   },
   "outputs": [
    {
     "data": {
      "text/plain": "0      RED\n1    Black\n2    White\ndtype: object"
     },
     "execution_count": 14,
     "metadata": {},
     "output_type": "execute_result"
    }
   ],
   "source": [
    "colors_series"
   ]
  },
  {
   "cell_type": "code",
   "execution_count": 15,
   "id": "a45f8335",
   "metadata": {
    "ExecuteTime": {
     "end_time": "2023-08-11T14:14:32.232574Z",
     "start_time": "2023-08-11T14:14:32.220784Z"
    }
   },
   "outputs": [
    {
     "data": {
      "text/plain": "       Cars Colors\n0       BMW    RED\n1  MERCEDES  Black\n2    JAGUAR  White",
      "text/html": "<div>\n<style scoped>\n    .dataframe tbody tr th:only-of-type {\n        vertical-align: middle;\n    }\n\n    .dataframe tbody tr th {\n        vertical-align: top;\n    }\n\n    .dataframe thead th {\n        text-align: right;\n    }\n</style>\n<table border=\"1\" class=\"dataframe\">\n  <thead>\n    <tr style=\"text-align: right;\">\n      <th></th>\n      <th>Cars</th>\n      <th>Colors</th>\n    </tr>\n  </thead>\n  <tbody>\n    <tr>\n      <th>0</th>\n      <td>BMW</td>\n      <td>RED</td>\n    </tr>\n    <tr>\n      <th>1</th>\n      <td>MERCEDES</td>\n      <td>Black</td>\n    </tr>\n    <tr>\n      <th>2</th>\n      <td>JAGUAR</td>\n      <td>White</td>\n    </tr>\n  </tbody>\n</table>\n</div>"
     },
     "execution_count": 15,
     "metadata": {},
     "output_type": "execute_result"
    }
   ],
   "source": [
    "car_df = pd.DataFrame({\"Cars\": car_series, \"Colors\": colors_series})\n",
    "car_df"
   ]
  },
  {
   "cell_type": "code",
   "execution_count": 17,
   "id": "d15ec680",
   "metadata": {
    "ExecuteTime": {
     "end_time": "2023-08-11T14:14:44.865008Z",
     "start_time": "2023-08-11T14:14:44.804013Z"
    }
   },
   "outputs": [
    {
     "data": {
      "text/plain": "     Make Colour  Odometer (KM)  Doors       Price\n0  Toyota  White         150043      4   $4,000.00\n1   Honda    Red          87899      4   $5,000.00\n2  Toyota   Blue          32549      3   $7,000.00\n3     BMW  Black          11179      5  $22,000.00\n4  Nissan  White         213095      4   $3,500.00",
      "text/html": "<div>\n<style scoped>\n    .dataframe tbody tr th:only-of-type {\n        vertical-align: middle;\n    }\n\n    .dataframe tbody tr th {\n        vertical-align: top;\n    }\n\n    .dataframe thead th {\n        text-align: right;\n    }\n</style>\n<table border=\"1\" class=\"dataframe\">\n  <thead>\n    <tr style=\"text-align: right;\">\n      <th></th>\n      <th>Make</th>\n      <th>Colour</th>\n      <th>Odometer (KM)</th>\n      <th>Doors</th>\n      <th>Price</th>\n    </tr>\n  </thead>\n  <tbody>\n    <tr>\n      <th>0</th>\n      <td>Toyota</td>\n      <td>White</td>\n      <td>150043</td>\n      <td>4</td>\n      <td>$4,000.00</td>\n    </tr>\n    <tr>\n      <th>1</th>\n      <td>Honda</td>\n      <td>Red</td>\n      <td>87899</td>\n      <td>4</td>\n      <td>$5,000.00</td>\n    </tr>\n    <tr>\n      <th>2</th>\n      <td>Toyota</td>\n      <td>Blue</td>\n      <td>32549</td>\n      <td>3</td>\n      <td>$7,000.00</td>\n    </tr>\n    <tr>\n      <th>3</th>\n      <td>BMW</td>\n      <td>Black</td>\n      <td>11179</td>\n      <td>5</td>\n      <td>$22,000.00</td>\n    </tr>\n    <tr>\n      <th>4</th>\n      <td>Nissan</td>\n      <td>White</td>\n      <td>213095</td>\n      <td>4</td>\n      <td>$3,500.00</td>\n    </tr>\n  </tbody>\n</table>\n</div>"
     },
     "execution_count": 17,
     "metadata": {},
     "output_type": "execute_result"
    }
   ],
   "source": [
    "car_sales_df = pd.read_csv(\"../data/car-sales.csv\")\n",
    "car_sales_df.head()"
   ]
  },
  {
   "cell_type": "code",
   "execution_count": 19,
   "outputs": [],
   "source": [
    "car_sales_df.to_csv(\"../data/car-sales-exported.csv\", index=False)"
   ],
   "metadata": {
    "collapsed": false,
    "ExecuteTime": {
     "end_time": "2023-08-11T14:16:03.467652Z",
     "start_time": "2023-08-11T14:16:03.456500Z"
    }
   },
   "id": "5a4638bc6b0fb12a"
  },
  {
   "cell_type": "code",
   "execution_count": null,
   "outputs": [],
   "source": [],
   "metadata": {
    "collapsed": false
   },
   "id": "df04e59d1692182d"
  }
 ],
 "metadata": {
  "kernelspec": {
   "display_name": "Python 3 (ipykernel)",
   "language": "python",
   "name": "python3"
  },
  "language_info": {
   "codemirror_mode": {
    "name": "ipython",
    "version": 3
   },
   "file_extension": ".py",
   "mimetype": "text/x-python",
   "name": "python",
   "nbconvert_exporter": "python",
   "pygments_lexer": "ipython3",
   "version": "3.10.12"
  }
 },
 "nbformat": 4,
 "nbformat_minor": 5
}
